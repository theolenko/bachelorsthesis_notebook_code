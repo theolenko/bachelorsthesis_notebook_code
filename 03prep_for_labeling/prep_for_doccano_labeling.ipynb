{
 "cells": [
  {
   "cell_type": "markdown",
   "id": "8d21fa4c",
   "metadata": {},
   "source": [
    "# Prepare Data for Doccano Labeling\n",
    "\n",
    "This notebook demonstrates how to load, clean, segment, and convert parliamentary documents into a JSONL format suitable for Doccano annotation. The workflow uses the `process_file` and `segment_documents` functions from the `preprocessing` module, then converts the segmented data to JSONL and shuffles it for unbiased labeling."
   ]
  },
  {
   "cell_type": "markdown",
   "id": "e4ec0890",
   "metadata": {},
   "source": [
    "## 1. Load and Clean Data\n",
    "\n",
    "Load the original data from `combined_transformed_data.json`, clean the text, and batch the documents using the utility functions."
   ]
  },
  {
   "cell_type": "code",
   "execution_count": null,
   "id": "300e77c2",
   "metadata": {},
   "outputs": [
    {
     "name": "stderr",
     "output_type": "stream",
     "text": [
      "c:\\Users\\tdoro\\Documents\\GitHub\\bachelorsthesis_notebook_code\\src\\cleaning.py:124: SyntaxWarning: invalid escape sequence '\\-'\n",
      "  \"\"\"for advanced: text = re.sub(r\"(?:[.\\-_]\\s*){3,}|(?:\\s*[.\\-_]){3,}\", \" \", text)\"\"\"\n"
     ]
    },
    {
     "name": "stdout",
     "output_type": "stream",
     "text": [
      "===== Summary =====\n",
      "Total original documents: 4647\n",
      "Removed (empty): 470\n",
      "Removed (≤ 10 tokens): 139\n",
      "Removed (> 15000 tokens): 131\n",
      "Remaining valid documents: 3907\n",
      "Total segments generated: 8086\n",
      "Average segments per document: 2.07\n",
      "Removed (TokenLength < 30): 92\n",
      "Remaining segments: 7994\n"
     ]
    }
   ],
   "source": [
    "import sys\n",
    "import os\n",
    "sys.path.append(os.path.abspath('..'))\n",
    "from src.preprocessing import process_file, segment_documents\n",
    "\n",
    "# Load and clean the data\n",
    "cleaned_data = process_file('../01data_collection/combined_transformed_data.json', \n",
    "                            mode='basic', \n",
    "                            output_mode='memory')\n",
    "\n",
    "# Batch the cleaned data\n",
    "segmented_data = segment_documents(cleaned_data)"
   ]
  },
  {
   "cell_type": "markdown",
   "id": "99ca788b",
   "metadata": {},
   "source": [
    "## 2. Convert Batched Data to JSONL Format\n",
    "\n",
    "Transform the batched data into the JSONL format required by Doccano, including metadata for each batch."
   ]
  },
  {
   "cell_type": "code",
   "execution_count": 2,
   "id": "112a4a20",
   "metadata": {},
   "outputs": [],
   "source": [
    "import json\n",
    "\n",
    "# convert back to json like structure for loop to work correctly\n",
    "segmented_data = segmented_data.to_dict(orient=\"records\")\n",
    "\n",
    "jsonl_entries = []\n",
    "for entry in segmented_data:\n",
    "    jsonl_entry = {\n",
    "        'text': entry['SegmentText'],\n",
    "        'meta': {\n",
    "            'segment_id': entry['SegmentID'],\n",
    "            'doc_id': entry['ID'],\n",
    "            'landtag': entry['Landtag'],\n",
    "            'datum': entry['Datum'],\n",
    "            'filter': entry['FilterDetails'],\n",
    "            'links': entry['Links'],\n",
    "            'beschreibung': entry.get('Beschreibungstext', '')\n",
    "        },\n",
    "        'label': []\n",
    "    }\n",
    "    jsonl_entries.append(jsonl_entry)"
   ]
  },
  {
   "cell_type": "markdown",
   "id": "8093a0a4",
   "metadata": {},
   "source": [
    "## 3. Shuffle the JSONL Data\n",
    "\n",
    "Randomize the order of entries to minimize annotation bias."
   ]
  },
  {
   "cell_type": "code",
   "execution_count": 3,
   "id": "cb6d98c4",
   "metadata": {},
   "outputs": [],
   "source": [
    "import random\n",
    "random.shuffle(jsonl_entries)"
   ]
  },
  {
   "cell_type": "markdown",
   "id": "de1a5dda",
   "metadata": {},
   "source": [
    "## 4. Save as Doccano-Ready JSONL\n",
    "\n",
    "Write the shuffled entries to `doccano_ready_data.jsonl` for import into Doccano."
   ]
  },
  {
   "cell_type": "code",
   "execution_count": 4,
   "id": "67a2e5cf",
   "metadata": {},
   "outputs": [],
   "source": [
    "with open('doccano_ready_data.jsonl', 'w', encoding='utf-8') as f_out:\n",
    "    for entry in jsonl_entries:\n",
    "        f_out.write(json.dumps(entry, ensure_ascii=False) + '\\n')"
   ]
  }
 ],
 "metadata": {
  "kernelspec": {
   "display_name": "base",
   "language": "python",
   "name": "python3"
  },
  "language_info": {
   "codemirror_mode": {
    "name": "ipython",
    "version": 3
   },
   "file_extension": ".py",
   "mimetype": "text/x-python",
   "name": "python",
   "nbconvert_exporter": "python",
   "pygments_lexer": "ipython3",
   "version": "3.12.3"
  }
 },
 "nbformat": 4,
 "nbformat_minor": 5
}
