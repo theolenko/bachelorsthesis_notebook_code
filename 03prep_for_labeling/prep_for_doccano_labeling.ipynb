{
 "cells": [
  {
   "cell_type": "markdown",
   "id": "8d21fa4c",
   "metadata": {},
   "source": [
    "# Prepare Data for Doccano Labeling\n",
    "\n",
    "This notebook demonstrates how to load, clean, batch, and convert parliamentary documents into a JSONL format suitable for Doccano annotation. The workflow uses the `process_file` and `segment_documents` functions from the `io_utils` module, then converts the batched data to JSONL and shuffles it for unbiased labeling."
   ]
  },
  {
   "cell_type": "markdown",
   "id": "e4ec0890",
   "metadata": {},
   "source": [
    "## 1. Load and Clean Data\n",
    "\n",
    "Load the original data from `combined_transformed_data.json`, clean the text, and batch the documents using the utility functions."
   ]
  },
  {
   "cell_type": "code",
   "execution_count": null,
   "id": "300e77c2",
   "metadata": {},
   "outputs": [
    {
     "name": "stdout",
     "output_type": "stream",
     "text": [
      "===== Summary =====\n",
      "Total original documents: 4647\n",
      "Removed (empty): 470\n",
      "Removed (≤ 10 tokens): 139\n",
      "Removed (> 15000 tokens): 131\n",
      "Remaining valid documents: 3907\n",
      "Total segments generated: 8086\n",
      "Average segments per document: 2.07\n",
      "Removed (TokenLength < 30): 92\n",
      "Remaining segments: 7994\n"
     ]
    }
   ],
   "source": [
    "import sys\n",
    "import os\n",
    "sys.path.append(os.path.abspath('..'))\n",
    "from src.preprocessing import process_file, segment_documents\n",
    "\n",
    "# Load and clean the data\n",
    "cleaned_data = process_file('../01data_collection/combined_transformed_data.json', mode='basic', output_mode='memory')\n",
    "\n",
    "# Batch the cleaned data\n",
    "batched_data = segment_documents(cleaned_data)"
   ]
  },
  {
   "cell_type": "markdown",
   "id": "99ca788b",
   "metadata": {},
   "source": [
    "## 2. Convert Batched Data to JSONL Format\n",
    "\n",
    "Transform the batched data into the JSONL format required by Doccano, including metadata for each batch."
   ]
  },
  {
   "cell_type": "code",
   "execution_count": 2,
   "id": "112a4a20",
   "metadata": {},
   "outputs": [],
   "source": [
    "import json\n",
    "\n",
    "jsonl_entries = []\n",
    "for entry in batched_data:\n",
    "    jsonl_entry = {\n",
    "        'text': entry['SegmentText'],\n",
    "        'meta': {\n",
    "            'segment_id': entry['SegmentID'],\n",
    "            'doc_id': entry['ID'],\n",
    "            'landtag': entry['Landtag'],\n",
    "            'datum': entry['Datum'],\n",
    "            'filter': entry['FilterDetails'],\n",
    "            'links': entry['Links'],\n",
    "            'beschreibung': entry.get('Beschreibungstext', '')\n",
    "        },\n",
    "        'label': []\n",
    "    }\n",
    "    jsonl_entries.append(jsonl_entry)"
   ]
  },
  {
   "cell_type": "markdown",
   "id": "8093a0a4",
   "metadata": {},
   "source": [
    "## 3. Shuffle the JSONL Data\n",
    "\n",
    "Randomize the order of entries to minimize annotation bias."
   ]
  },
  {
   "cell_type": "code",
   "execution_count": 3,
   "id": "cb6d98c4",
   "metadata": {},
   "outputs": [],
   "source": [
    "import random\n",
    "random.shuffle(jsonl_entries)"
   ]
  },
  {
   "cell_type": "markdown",
   "id": "de1a5dda",
   "metadata": {},
   "source": [
    "## 4. Save as Doccano-Ready JSONL\n",
    "\n",
    "Write the shuffled entries to `doccano_ready_data.jsonl` for import into Doccano."
   ]
  },
  {
   "cell_type": "code",
   "execution_count": 4,
   "id": "67a2e5cf",
   "metadata": {},
   "outputs": [],
   "source": [
    "with open('doccano_ready_data.jsonl', 'w', encoding='utf-8') as f_out:\n",
    "    for entry in jsonl_entries:\n",
    "        f_out.write(json.dumps(entry, ensure_ascii=False) + '\\n')"
   ]
  },
  {
   "cell_type": "code",
   "execution_count": null,
   "id": "d0e228ad",
   "metadata": {},
   "outputs": [
    {
     "ename": "FileNotFoundError",
     "evalue": "[Errno 2] No such file or directory: 'shuffled.jsonl'",
     "output_type": "error",
     "traceback": [
      "\u001b[31m---------------------------------------------------------------------------\u001b[39m",
      "\u001b[31mFileNotFoundError\u001b[39m                         Traceback (most recent call last)",
      "\u001b[36mCell\u001b[39m\u001b[36m \u001b[39m\u001b[32mIn[5]\u001b[39m\u001b[32m, line 9\u001b[39m\n\u001b[32m      6\u001b[39m \u001b[38;5;28;01mwith\u001b[39;00m \u001b[38;5;28mopen\u001b[39m(\u001b[33m'\u001b[39m\u001b[33mdoccano_ready_data.jsonl\u001b[39m\u001b[33m'\u001b[39m, \u001b[33m'\u001b[39m\u001b[33mr\u001b[39m\u001b[33m'\u001b[39m, encoding=\u001b[33m'\u001b[39m\u001b[33mutf-8\u001b[39m\u001b[33m'\u001b[39m) \u001b[38;5;28;01mas\u001b[39;00m f:\n\u001b[32m      7\u001b[39m         s2 = f.read()\n\u001b[32m----> \u001b[39m\u001b[32m9\u001b[39m \u001b[43mcompare_list_to_json\u001b[49m\u001b[43m(\u001b[49m\u001b[43ms2\u001b[49m\u001b[43m,\u001b[49m\u001b[43m \u001b[49m\u001b[33;43m'\u001b[39;49m\u001b[33;43mshuffled.jsonl\u001b[39;49m\u001b[33;43m'\u001b[39;49m\u001b[43m)\u001b[49m\n",
      "\u001b[36mFile \u001b[39m\u001b[32mc:\\Users\\tdoro\\OneDrive\\Bachelorarbeit\\BA_final_notebook_code\\src\\io_utils.py:193\u001b[39m, in \u001b[36mcompare_list_to_json\u001b[39m\u001b[34m(data_list, json_path)\u001b[39m\n\u001b[32m    191\u001b[39m s1 = json.dumps(data_list, ensure_ascii=\u001b[38;5;28;01mFalse\u001b[39;00m, indent=\u001b[32m2\u001b[39m)\n\u001b[32m    192\u001b[39m \u001b[38;5;66;03m# 2) Lese die Datei\u001b[39;00m\n\u001b[32m--> \u001b[39m\u001b[32m193\u001b[39m \u001b[38;5;28;01mwith\u001b[39;00m \u001b[38;5;28;43mopen\u001b[39;49m\u001b[43m(\u001b[49m\u001b[43mjson_path\u001b[49m\u001b[43m,\u001b[49m\u001b[43m \u001b[49m\u001b[33;43m'\u001b[39;49m\u001b[33;43mr\u001b[39;49m\u001b[33;43m'\u001b[39;49m\u001b[43m,\u001b[49m\u001b[43m \u001b[49m\u001b[43mencoding\u001b[49m\u001b[43m=\u001b[49m\u001b[33;43m'\u001b[39;49m\u001b[33;43mutf-8\u001b[39;49m\u001b[33;43m'\u001b[39;49m\u001b[43m)\u001b[49m \u001b[38;5;28;01mas\u001b[39;00m f:\n\u001b[32m    194\u001b[39m     s2 = f.read()\n\u001b[32m    195\u001b[39m \u001b[38;5;66;03m# 3) Exakter Vergleich\u001b[39;00m\n",
      "\u001b[31mFileNotFoundError\u001b[39m: [Errno 2] No such file or directory: 'shuffled.jsonl'"
     ]
    }
   ],
   "source": [
    "#TBD ggf. Funktion anpassen dass sie einfach alle Dateien checkt, nicht nur Liste[dicts] mit json File\n",
    "#check if docs are the same: \n",
    "#from src.io_utils import compare_list_to_json\n",
    "#\n",
    "#s1 = json.dumps(data_list, ensure_ascii=False, indent=2)\n",
    "#with open('doccano_ready_data.jsonl', 'r', encoding='utf-8') as f:\n",
    "#       s2 = f.read()\n",
    "#\n",
    "#compare_list_to_json(s2, 'shuffled.jsonl')"
   ]
  },
  {
   "cell_type": "markdown",
   "id": "837e357f",
   "metadata": {},
   "source": [
    "---\n",
    "**Summary:** This notebook loads, cleans, batches, converts, shuffles, and saves parliamentary documents in a format ready for Doccano labeling."
   ]
  }
 ],
 "metadata": {
  "kernelspec": {
   "display_name": "base",
   "language": "python",
   "name": "python3"
  },
  "language_info": {
   "codemirror_mode": {
    "name": "ipython",
    "version": 3
   },
   "file_extension": ".py",
   "mimetype": "text/x-python",
   "name": "python",
   "nbconvert_exporter": "python",
   "pygments_lexer": "ipython3",
   "version": "3.12.3"
  }
 },
 "nbformat": 4,
 "nbformat_minor": 5
}
